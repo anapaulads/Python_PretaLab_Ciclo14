{
  "nbformat": 4,
  "nbformat_minor": 0,
  "metadata": {
    "colab": {
      "provenance": [],
      "include_colab_link": true
    },
    "kernelspec": {
      "name": "python3",
      "display_name": "Python 3"
    },
    "language_info": {
      "name": "python"
    }
  },
  "cells": [
    {
      "cell_type": "markdown",
      "metadata": {
        "id": "view-in-github",
        "colab_type": "text"
      },
      "source": [
        "<a href=\"https://colab.research.google.com/github/anapaulads/Python_PretaLab_Ciclo14/blob/main/Mini_projeto_M%C3%B3dulo_4_Ciclo_14.ipynb\" target=\"_parent\"><img src=\"https://colab.research.google.com/assets/colab-badge.svg\" alt=\"Open In Colab\"/></a>"
      ]
    },
    {
      "cell_type": "markdown",
      "source": [
        "#Mini-projeto: Lidando com Bancos de Dados"
      ],
      "metadata": {
        "id": "WTV5Cp_BvR-r"
      }
    },
    {
      "cell_type": "markdown",
      "source": [
        "Nesta tarefa, você deverá desenvolver um mini-projeto em Python utilizando SQLite3, colocando em prática os conceitos de criação e manipulação de dados em um banco relacional.\n",
        "\n",
        "\n",
        "## Objetivo da atividade\n",
        "\n",
        "* Verificar se você compreende como:\n",
        "\n",
        "* Criar tabelas em SQLite;\n",
        "\n",
        "* Inserir dados em um banco de dados;\n",
        "\n",
        "* Consultar registros de diferentes formas;\n",
        "\n",
        "* Atualizar informações já cadastradas;\n",
        "\n",
        "* Excluir registros de uma tabela.\n",
        "\n",
        "## Formato e Data de Entrega\n",
        "\n",
        "**Você deve enviar o link para um Google Colab até o dia 28/09.**\n",
        "\n",
        "## Critérios de avaliação\n",
        "\n",
        "* Banco criado corretamente, com a estrutura definida.\n",
        "\n",
        "* Inserção correta de pelo menos 50 registros.\n",
        "\n",
        "* Consultas SQL funcionando.\n",
        "\n",
        "* Atualizações realizadas corretamente.\n",
        "\n",
        "* Exclusões funcionando sem erros.\n",
        "\n",
        "* Organização e clareza do código."
      ],
      "metadata": {
        "id": "XY-IUTsBvVlr"
      }
    },
    {
      "cell_type": "markdown",
      "source": [
        "## O que deve ser feito"
      ],
      "metadata": {
        "id": "T9azQsBIvYe1"
      }
    },
    {
      "cell_type": "markdown",
      "source": [
        "### 1. Criar a tabela\n",
        "\n",
        "* Nome: alunas.\n",
        "\n",
        "* Colunas obrigatórias:\n",
        "\n",
        "- id (inteiro, chave primária, autoincremento)\n",
        "\n",
        "- nome (texto, obrigatório)\n",
        "\n",
        "- email (texto, único, obrigatório)\n",
        "\n",
        "- data_nascimento (data, obrigatório)\n",
        "\n",
        "- data_cadastro (data/hora, com valor padrão atual)."
      ],
      "metadata": {
        "id": "nTN0Sdtewf-3"
      }
    },
    {
      "cell_type": "code",
      "source": [
        "import sqlite3"
      ],
      "metadata": {
        "id": "TH4GpKsyvyV1"
      },
      "execution_count": 10,
      "outputs": []
    },
    {
      "cell_type": "code",
      "source": [
        "con = sqlite3.connect(\"alunas.db\")\n",
        "cur = con.cursor()"
      ],
      "metadata": {
        "id": "KeBHLVSjl_0L"
      },
      "execution_count": 11,
      "outputs": []
    },
    {
      "cell_type": "code",
      "source": [
        "cur.execute('''\n",
        "CREATE TABLE IF NOT EXISTS alunas(\n",
        "  id INTEGER PRIMARY KEY AUTOINCREMENT,\n",
        "  nome TEXT NOT NULL,\n",
        "  email TEXT NOT NULL,\n",
        "  data_nascimento DATE NOT NULL,\n",
        "  data_cadastro TIMESTAMP DEFAULT CURRENT_TIMESTAMP\n",
        ")\n",
        "''')\n",
        "\n",
        "con.commit()"
      ],
      "metadata": {
        "id": "1fBTLefNmZi8"
      },
      "execution_count": 12,
      "outputs": []
    },
    {
      "cell_type": "markdown",
      "source": [
        "### 2. Inserir registros\n",
        "\n",
        "* Inserir pelo menos 50 alunas diferentes na tabela, preenchendo todos os campos obrigatórios."
      ],
      "metadata": {
        "id": "iMkomBb_vynv"
      }
    },
    {
      "cell_type": "code",
      "source": [
        "pip install faker"
      ],
      "metadata": {
        "colab": {
          "base_uri": "https://localhost:8080/"
        },
        "id": "2hQ7H981om-Z",
        "outputId": "20e3f118-c4eb-4e36-a632-441be2ff77eb"
      },
      "execution_count": 13,
      "outputs": [
        {
          "output_type": "stream",
          "name": "stdout",
          "text": [
            "Requirement already satisfied: faker in /usr/local/lib/python3.12/dist-packages (37.8.0)\n",
            "Requirement already satisfied: tzdata in /usr/local/lib/python3.12/dist-packages (from faker) (2025.2)\n"
          ]
        }
      ]
    },
    {
      "cell_type": "code",
      "source": [
        "from faker import Faker\n",
        "import random"
      ],
      "metadata": {
        "id": "j-uEf7Ouoj2h"
      },
      "execution_count": 14,
      "outputs": []
    },
    {
      "cell_type": "code",
      "source": [
        "fake = Faker('pt_BR')\n",
        "\n",
        "for _ in range(55):\n",
        "  nome = fake.name_female()\n",
        "  email = fake.email()\n",
        "  data_nascimento = fake.date_of_birth(minimum_age=18, maximum_age=80).strftime('%d-%m-%Y')\n",
        "\n",
        "  cur.execute('''\n",
        "  INSERT INTO alunas (nome, email, data_nascimento)\n",
        "  VALUES (?, ?, ?)\n",
        "  ''',\n",
        "  (nome, email, data_nascimento))\n",
        "\n",
        "con.commit()"
      ],
      "metadata": {
        "id": "IJ-YKBuZo8N8"
      },
      "execution_count": 15,
      "outputs": []
    },
    {
      "cell_type": "markdown",
      "source": [
        "### 3. Consultar registros\n",
        "\n",
        "* Listar todas as alunas cadastradas com SELECT * FROM alunas.\n",
        "\n",
        "* Consultar apenas alunas nascidas após o ano 2000.\n",
        "\n",
        "* Consultar alunas filtrando pelo nome ou email (usando WHERE)."
      ],
      "metadata": {
        "id": "RCNX2Ubfv13y"
      }
    },
    {
      "cell_type": "code",
      "source": [
        "def consulta():\n",
        "  print(\"Alunas: \")\n",
        "  for row in cur.execute(\"SELECT * FROM alunas\"):\n",
        "    print(row)"
      ],
      "metadata": {
        "id": "XMwxAmOuv4CW"
      },
      "execution_count": 16,
      "outputs": []
    },
    {
      "cell_type": "code",
      "source": [
        "consulta()"
      ],
      "metadata": {
        "colab": {
          "base_uri": "https://localhost:8080/"
        },
        "collapsed": true,
        "id": "_HTIjTFLsr5I",
        "outputId": "93af536a-e740-47f2-dcf6-41b51304c4c2"
      },
      "execution_count": 17,
      "outputs": [
        {
          "output_type": "stream",
          "name": "stdout",
          "text": [
            "Alunas: \n",
            "(1, 'Dra. Isabella Teixeira', 'rochavitor@example.net', '10-12-1959', '2025-09-26 01:57:22')\n",
            "(2, 'Mirella Cardoso', 'benicio12@example.org', '03-01-1999', '2025-09-26 01:57:22')\n",
            "(3, 'Eloah Cardoso', 'bernardobrito@example.net', '28-06-1979', '2025-09-26 01:57:22')\n",
            "(4, 'Sra. Lavínia Costela', 'hgomes@example.net', '13-12-1964', '2025-09-26 01:57:22')\n",
            "(5, 'Manuela Garcia', 'andradeisis@example.com', '06-06-1985', '2025-09-26 01:57:22')\n",
            "(6, 'Stella Viana', 'anna-lizda-costa@example.org', '21-09-1948', '2025-09-26 01:57:22')\n",
            "(7, 'Ágatha Aparecida', 'luigijesus@example.net', '18-02-1973', '2025-09-26 01:57:22')\n",
            "(8, 'Gabriela da Mata', 'fernando13@example.com', '10-12-1972', '2025-09-26 01:57:22')\n",
            "(9, 'Luiza Cassiano', 'ealves@example.net', '18-11-1949', '2025-09-26 01:57:22')\n",
            "(10, 'Brenda Andrade', 'stephany26@example.org', '11-08-1946', '2025-09-26 01:57:22')\n",
            "(11, 'Lara Vieira', 'marcos-vinicius53@example.com', '11-08-2007', '2025-09-26 01:57:22')\n",
            "(12, 'Valentina Caldeira', 'luisalopes@example.org', '05-06-1999', '2025-09-26 01:57:22')\n",
            "(13, 'Marina Macedo', 'joao-guilherme51@example.com', '19-11-1945', '2025-09-26 01:57:22')\n",
            "(14, 'Bárbara Duarte', 'zabreu@example.com', '15-04-1951', '2025-09-26 01:57:22')\n",
            "(15, 'Sra. Maria Luiza Barbosa', 'oaparecida@example.net', '13-11-1972', '2025-09-26 01:57:22')\n",
            "(16, 'Sofia Brito', 'umendonca@example.com', '10-08-1945', '2025-09-26 01:57:22')\n",
            "(17, 'Dra. Cecília Garcia', 'vianamaria-cecilia@example.com', '11-07-1956', '2025-09-26 01:57:22')\n",
            "(18, 'Luara Cirino', 'garciaandre@example.com', '30-03-1979', '2025-09-26 01:57:22')\n",
            "(19, 'Sra. Sophie da Rosa', 'amandaduarte@example.org', '31-05-1984', '2025-09-26 01:57:22')\n",
            "(20, 'Jade Pires', 'joao-lucassantos@example.org', '12-12-1947', '2025-09-26 01:57:22')\n",
            "(21, 'Joana Ramos', 'valentimrodrigues@example.org', '05-12-1976', '2025-09-26 01:57:22')\n",
            "(22, 'Sra. Lorena Moraes', 'manuellamachado@example.net', '30-09-1965', '2025-09-26 01:57:22')\n",
            "(23, 'Manuela Carvalho', 'nmoraes@example.com', '02-04-1967', '2025-09-26 01:57:22')\n",
            "(24, 'Marina Gonçalves', 'uaraujo@example.net', '16-05-1959', '2025-09-26 01:57:22')\n",
            "(25, 'Daniela Gomes', 'borgesluiz-otavio@example.org', '14-10-1963', '2025-09-26 01:57:22')\n",
            "(26, 'Luara Guerra', 'sda-rocha@example.net', '03-04-1991', '2025-09-26 01:57:22')\n",
            "(27, 'Maria Luiza Montenegro', 'anthony-gabrielpeixoto@example.com', '31-10-1987', '2025-09-26 01:57:22')\n",
            "(28, 'Ana Sophia da Cruz', 'maiteduarte@example.org', '21-02-1980', '2025-09-26 01:57:22')\n",
            "(29, 'Melissa Jesus', 'abreuesther@example.com', '26-05-1996', '2025-09-26 01:57:22')\n",
            "(30, 'Clara Costela', 'kcasa-grande@example.com', '26-05-1988', '2025-09-26 01:57:22')\n",
            "(31, 'Luísa Caldeira', 'juliasa@example.com', '27-12-1991', '2025-09-26 01:57:22')\n",
            "(32, 'Sra. Allana Machado', 'vicentesilva@example.net', '08-07-1954', '2025-09-26 01:57:22')\n",
            "(33, 'Maria Laura Costa', 'da-luzvinicius@example.com', '19-01-1945', '2025-09-26 01:57:22')\n",
            "(34, 'Ana Pimenta', 'emanuellyramos@example.net', '24-07-1946', '2025-09-26 01:57:22')\n",
            "(35, 'Dra. Joana Casa Grande', 'rrocha@example.com', '12-05-1989', '2025-09-26 01:57:22')\n",
            "(36, 'Bella Rodrigues', 'zcastro@example.net', '21-05-2007', '2025-09-26 01:57:22')\n",
            "(37, 'Brenda da Luz', 'salesolivia@example.com', '28-11-2006', '2025-09-26 01:57:22')\n",
            "(38, 'Maria Aparecida', 'da-motaisis@example.com', '01-09-1949', '2025-09-26 01:57:22')\n",
            "(39, 'Srta. Olivia Fernandes', 'fviana@example.org', '10-03-1953', '2025-09-26 01:57:22')\n",
            "(40, 'Olivia Costela', 'mouranatalia@example.org', '05-11-1961', '2025-09-26 01:57:22')\n",
            "(41, 'Gabriela Rocha', 'vitoriasouza@example.com', '03-06-2002', '2025-09-26 01:57:22')\n",
            "(42, 'Maria Luiza Freitas', 'benicio04@example.net', '30-12-1948', '2025-09-26 01:57:22')\n",
            "(43, 'Sra. Maitê Costa', 'juliana42@example.org', '02-10-1967', '2025-09-26 01:57:22')\n",
            "(44, 'Luísa Lopes', 'moreiracecilia@example.net', '02-06-1969', '2025-09-26 01:57:22')\n",
            "(45, 'Emanuella Mendonça', 'caua57@example.net', '09-02-1971', '2025-09-26 01:57:22')\n",
            "(46, 'Sabrina Jesus', 'antony01@example.net', '26-03-1997', '2025-09-26 01:57:22')\n",
            "(47, 'Yasmin Guerra', 'theocostela@example.com', '17-09-1960', '2025-09-26 01:57:22')\n",
            "(48, 'Beatriz Moura', 'vbarros@example.com', '13-10-1997', '2025-09-26 01:57:22')\n",
            "(49, 'Dra. Helena Correia', 'erick75@example.net', '17-03-2002', '2025-09-26 01:57:22')\n",
            "(50, 'Bella Nogueira', 'cardosofernanda@example.net', '27-07-2002', '2025-09-26 01:57:22')\n",
            "(51, 'Maya Guerra', 'giovannabarros@example.com', '21-04-1957', '2025-09-26 01:57:22')\n",
            "(52, 'Maria Fernanda Camargo', 'smoreira@example.org', '03-02-2001', '2025-09-26 01:57:22')\n",
            "(53, 'Maria Cecília Casa Grande', 'baragao@example.net', '09-09-1980', '2025-09-26 01:57:22')\n",
            "(54, 'Bárbara Brito', 'kmarques@example.net', '04-06-1970', '2025-09-26 01:57:22')\n",
            "(55, 'Dra. Lívia Cavalcanti', 'vasconcelosigor@example.org', '25-05-1999', '2025-09-26 01:57:22')\n"
          ]
        }
      ]
    },
    {
      "cell_type": "code",
      "source": [
        "# Alunas nascidas após o ano 2000\n",
        "\n",
        "for row in cur.execute(\"SELECT * FROM alunas WHERE substr(data_nascimento, 7, 4) > '2000'\"):\n",
        "  print(row)"
      ],
      "metadata": {
        "colab": {
          "base_uri": "https://localhost:8080/"
        },
        "id": "4aS_mS7gxgcd",
        "outputId": "0728fdf5-f2b8-492e-f0ee-88c0e099c373"
      },
      "execution_count": 29,
      "outputs": [
        {
          "output_type": "stream",
          "name": "stdout",
          "text": [
            "(11, 'Lara Vieira', 'marcos-vinicius53@example.com', '11-08-2007', '2025-09-26 01:57:22')\n",
            "(36, 'Bella Rodrigues', 'zcastro@example.net', '21-05-2007', '2025-09-26 01:57:22')\n",
            "(37, 'Brenda da Luz', 'salesolivia@example.com', '28-11-2006', '2025-09-26 01:57:22')\n",
            "(41, 'Gabriela Rocha', 'vitoriasouza@example.com', '03-06-2002', '2025-09-26 01:57:22')\n",
            "(49, 'Dra. Helena Correia', 'erick75@example.net', '17-03-2002', '2025-09-26 01:57:22')\n",
            "(50, 'Bella Nogueira', 'cardosofernanda@example.net', '27-07-2002', '2025-09-26 01:57:22')\n",
            "(52, 'Maria Fernanda Camargo', 'smoreira@example.org', '03-02-2001', '2025-09-26 01:57:22')\n"
          ]
        }
      ]
    },
    {
      "cell_type": "markdown",
      "source": [
        "Outra opção utilizando o Like"
      ],
      "metadata": {
        "id": "86gT0i3rxvgg"
      }
    },
    {
      "cell_type": "code",
      "source": [
        "for row in cur.execute(\"SELECT * FROM alunas WHERE data_nascimento LIKE ? AND data_nascimento NOT LIKE ?\", (\"%-20%\", \"%-2000\")):\n",
        "  print(row)"
      ],
      "metadata": {
        "colab": {
          "base_uri": "https://localhost:8080/"
        },
        "id": "aajGvOFOs8Dh",
        "outputId": "97968583-5162-4564-93e8-58b2401c8799"
      },
      "execution_count": 27,
      "outputs": [
        {
          "output_type": "stream",
          "name": "stdout",
          "text": [
            "(11, 'Lara Vieira', 'marcos-vinicius53@example.com', '11-08-2007', '2025-09-26 01:57:22')\n",
            "(36, 'Bella Rodrigues', 'zcastro@example.net', '21-05-2007', '2025-09-26 01:57:22')\n",
            "(37, 'Brenda da Luz', 'salesolivia@example.com', '28-11-2006', '2025-09-26 01:57:22')\n",
            "(41, 'Gabriela Rocha', 'vitoriasouza@example.com', '03-06-2002', '2025-09-26 01:57:22')\n",
            "(49, 'Dra. Helena Correia', 'erick75@example.net', '17-03-2002', '2025-09-26 01:57:22')\n",
            "(50, 'Bella Nogueira', 'cardosofernanda@example.net', '27-07-2002', '2025-09-26 01:57:22')\n",
            "(52, 'Maria Fernanda Camargo', 'smoreira@example.org', '03-02-2001', '2025-09-26 01:57:22')\n"
          ]
        }
      ]
    },
    {
      "cell_type": "code",
      "source": [
        "# Alunas com email de organização\n",
        "\n",
        "for row in cur.execute(\"SELECT * FROM alunas WHERE email LIKE ?\", (\"%.org\",)):\n",
        "  print(row)"
      ],
      "metadata": {
        "colab": {
          "base_uri": "https://localhost:8080/"
        },
        "id": "Wtgq0bdRx9fm",
        "outputId": "8e7064a5-8857-441a-ef5e-a462e38f7c9d"
      },
      "execution_count": 32,
      "outputs": [
        {
          "output_type": "stream",
          "name": "stdout",
          "text": [
            "(2, 'Mirella Cardoso', 'benicio12@example.org', '03-01-1999', '2025-09-26 01:57:22')\n",
            "(6, 'Stella Viana', 'anna-lizda-costa@example.org', '21-09-1948', '2025-09-26 01:57:22')\n",
            "(10, 'Brenda Andrade', 'stephany26@example.org', '11-08-1946', '2025-09-26 01:57:22')\n",
            "(12, 'Valentina Caldeira', 'luisalopes@example.org', '05-06-1999', '2025-09-26 01:57:22')\n",
            "(19, 'Sra. Sophie da Rosa', 'amandaduarte@example.org', '31-05-1984', '2025-09-26 01:57:22')\n",
            "(20, 'Jade Pires', 'joao-lucassantos@example.org', '12-12-1947', '2025-09-26 01:57:22')\n",
            "(21, 'Joana Ramos', 'valentimrodrigues@example.org', '05-12-1976', '2025-09-26 01:57:22')\n",
            "(25, 'Daniela Gomes', 'borgesluiz-otavio@example.org', '14-10-1963', '2025-09-26 01:57:22')\n",
            "(28, 'Ana Sophia da Cruz', 'maiteduarte@example.org', '21-02-1980', '2025-09-26 01:57:22')\n",
            "(39, 'Srta. Olivia Fernandes', 'fviana@example.org', '10-03-1953', '2025-09-26 01:57:22')\n",
            "(40, 'Olivia Costela', 'mouranatalia@example.org', '05-11-1961', '2025-09-26 01:57:22')\n",
            "(43, 'Sra. Maitê Costa', 'juliana42@example.org', '02-10-1967', '2025-09-26 01:57:22')\n",
            "(52, 'Maria Fernanda Camargo', 'smoreira@example.org', '03-02-2001', '2025-09-26 01:57:22')\n",
            "(55, 'Dra. Lívia Cavalcanti', 'vasconcelosigor@example.org', '25-05-1999', '2025-09-26 01:57:22')\n"
          ]
        }
      ]
    },
    {
      "cell_type": "markdown",
      "source": [
        "#### 4. Atualizar registros\n",
        "\n",
        "* Alterar o email de pelo menos uma aluna.\n",
        "\n",
        "* Atualizar o nome de uma aluna existente.\n",
        "\n",
        "* Corrigir a data de nascimento de pelo menos uma aluna."
      ],
      "metadata": {
        "id": "1Z5P6zfrv4IE"
      }
    },
    {
      "cell_type": "code",
      "source": [
        "def atualiza_registro(campo, novo_valor, condicao):\n",
        "  cur.execute(f\"UPDATE alunas SET {campo} = ? WHERE {condicao}\", (novo_valor,))\n",
        "  con.commit()"
      ],
      "metadata": {
        "id": "tt1afyeev4bo"
      },
      "execution_count": 33,
      "outputs": []
    },
    {
      "cell_type": "code",
      "source": [
        "for row in cur.execute(\"SELECT * FROM alunas WHERE id =2\"):\n",
        "  print(\"registro a ser atualizado;\", row)\n",
        "\n",
        "atualiza_registro(\"email\", \"aluna_pretalab@gmail.com\", \"id = 2\")\n",
        "print(\"Atualizando...\")\n",
        "\n",
        "for row in cur.execute(\"SELECT * FROM alunas WHERE id =2\"):\n",
        "  print(\"registro atualizado;\", row)"
      ],
      "metadata": {
        "colab": {
          "base_uri": "https://localhost:8080/"
        },
        "id": "UPyhX5ptzWRc",
        "outputId": "b8540fea-a3e0-47bb-a545-7e03056dc9e9"
      },
      "execution_count": 39,
      "outputs": [
        {
          "output_type": "stream",
          "name": "stdout",
          "text": [
            "registro a ser atualizado; (2, 'Mirella Cardoso', 'benicio12@example.org', '03-01-1999', '2025-09-26 01:57:22')\n",
            "Atualizando...\n",
            "registro atualizado; (2, 'Mirella Cardoso', 'aluna_pretalab@gmail.com', '03-01-1999', '2025-09-26 01:57:22')\n"
          ]
        }
      ]
    },
    {
      "cell_type": "markdown",
      "source": [
        "Para atualizações em lote:"
      ],
      "metadata": {
        "id": "8vFedImL2Z9S"
      }
    },
    {
      "cell_type": "code",
      "source": [
        "def atualizacao_lote(atualizar_dados):\n",
        "  for campo, novo_valor, condicao in atualizar_dados:\n",
        "    cur.execute(f\"UPDATE alunas SET {campo} = ? WHERE {condicao}\", (novo_valor,))\n",
        "  con.commit()"
      ],
      "metadata": {
        "id": "K6IcS7Gb0CDW"
      },
      "execution_count": 43,
      "outputs": []
    },
    {
      "cell_type": "code",
      "source": [
        "atualizar_dados = [\n",
        "    (\"email\", \"pretalab@edu.com.br\", \"id = 1\"),\n",
        "    (\"email\", \"stella@gmail.com\", \"nome = 'Stella Viana'\"),\n",
        "    (\"email\", \"aluna_1946@gmail.com\", \"data_nascimento = 11-08-1946\")\n",
        "]\n",
        "\n",
        "atualizacao_lote(atualizar_dados)"
      ],
      "metadata": {
        "id": "t8QNzGyd3Vu-"
      },
      "execution_count": 46,
      "outputs": []
    },
    {
      "cell_type": "code",
      "source": [
        "consulta()"
      ],
      "metadata": {
        "colab": {
          "base_uri": "https://localhost:8080/"
        },
        "id": "XXGX3hTX3x0O",
        "outputId": "82c88fb3-2ea7-487f-a3df-0b76e21d9056"
      },
      "execution_count": 47,
      "outputs": [
        {
          "output_type": "stream",
          "name": "stdout",
          "text": [
            "Alunas: \n",
            "(1, 'Dra. Isabella Teixeira', 'pretalab@edu.com.br', '10-12-1959', '2025-09-26 01:57:22')\n",
            "(2, 'Mirella Cardoso', 'aluna_pretalab@gmail.com', '03-01-1999', '2025-09-26 01:57:22')\n",
            "(3, 'Eloah Cardoso', 'bernardobrito@example.net', '28-06-1979', '2025-09-26 01:57:22')\n",
            "(4, 'Sra. Lavínia Costela', 'hgomes@example.net', '13-12-1964', '2025-09-26 01:57:22')\n",
            "(5, 'Manuela Garcia', 'andradeisis@example.com', '06-06-1985', '2025-09-26 01:57:22')\n",
            "(6, 'Stella Viana', 'stella@gmail.com', '21-09-1948', '2025-09-26 01:57:22')\n",
            "(7, 'Ágatha Aparecida', 'luigijesus@example.net', '18-02-1973', '2025-09-26 01:57:22')\n",
            "(8, 'Gabriela da Mata', 'fernando13@example.com', '10-12-1972', '2025-09-26 01:57:22')\n",
            "(9, 'Luiza Cassiano', 'ealves@example.net', '18-11-1949', '2025-09-26 01:57:22')\n",
            "(10, 'Brenda Andrade', 'stephany26@example.org', '11-08-1946', '2025-09-26 01:57:22')\n",
            "(11, 'Lara Vieira', 'marcos-vinicius53@example.com', '11-08-2007', '2025-09-26 01:57:22')\n",
            "(12, 'Valentina Caldeira', 'luisalopes@example.org', '05-06-1999', '2025-09-26 01:57:22')\n",
            "(13, 'Marina Macedo', 'joao-guilherme51@example.com', '19-11-1945', '2025-09-26 01:57:22')\n",
            "(14, 'Bárbara Duarte', 'zabreu@example.com', '15-04-1951', '2025-09-26 01:57:22')\n",
            "(15, 'Sra. Maria Luiza Barbosa', 'oaparecida@example.net', '13-11-1972', '2025-09-26 01:57:22')\n",
            "(16, 'Sofia Brito', 'umendonca@example.com', '10-08-1945', '2025-09-26 01:57:22')\n",
            "(17, 'Dra. Cecília Garcia', 'vianamaria-cecilia@example.com', '11-07-1956', '2025-09-26 01:57:22')\n",
            "(18, 'Luara Cirino', 'garciaandre@example.com', '30-03-1979', '2025-09-26 01:57:22')\n",
            "(19, 'Sra. Sophie da Rosa', 'amandaduarte@example.org', '31-05-1984', '2025-09-26 01:57:22')\n",
            "(20, 'Jade Pires', 'joao-lucassantos@example.org', '12-12-1947', '2025-09-26 01:57:22')\n",
            "(21, 'Joana Ramos', 'valentimrodrigues@example.org', '05-12-1976', '2025-09-26 01:57:22')\n",
            "(22, 'Sra. Lorena Moraes', 'manuellamachado@example.net', '30-09-1965', '2025-09-26 01:57:22')\n",
            "(23, 'Manuela Carvalho', 'nmoraes@example.com', '02-04-1967', '2025-09-26 01:57:22')\n",
            "(24, 'Marina Gonçalves', 'uaraujo@example.net', '16-05-1959', '2025-09-26 01:57:22')\n",
            "(25, 'Daniela Gomes', 'borgesluiz-otavio@example.org', '14-10-1963', '2025-09-26 01:57:22')\n",
            "(26, 'Luara Guerra', 'sda-rocha@example.net', '03-04-1991', '2025-09-26 01:57:22')\n",
            "(27, 'Maria Luiza Montenegro', 'anthony-gabrielpeixoto@example.com', '31-10-1987', '2025-09-26 01:57:22')\n",
            "(28, 'Ana Sophia da Cruz', 'maiteduarte@example.org', '21-02-1980', '2025-09-26 01:57:22')\n",
            "(29, 'Melissa Jesus', 'abreuesther@example.com', '26-05-1996', '2025-09-26 01:57:22')\n",
            "(30, 'Clara Costela', 'kcasa-grande@example.com', '26-05-1988', '2025-09-26 01:57:22')\n",
            "(31, 'Luísa Caldeira', 'juliasa@example.com', '27-12-1991', '2025-09-26 01:57:22')\n",
            "(32, 'Sra. Allana Machado', 'vicentesilva@example.net', '08-07-1954', '2025-09-26 01:57:22')\n",
            "(33, 'Maria Laura Costa', 'da-luzvinicius@example.com', '19-01-1945', '2025-09-26 01:57:22')\n",
            "(34, 'Ana Pimenta', 'emanuellyramos@example.net', '24-07-1946', '2025-09-26 01:57:22')\n",
            "(35, 'Dra. Joana Casa Grande', 'rrocha@example.com', '12-05-1989', '2025-09-26 01:57:22')\n",
            "(36, 'Bella Rodrigues', 'zcastro@example.net', '21-05-2007', '2025-09-26 01:57:22')\n",
            "(37, 'Brenda da Luz', 'salesolivia@example.com', '28-11-2006', '2025-09-26 01:57:22')\n",
            "(38, 'Maria Aparecida', 'da-motaisis@example.com', '01-09-1949', '2025-09-26 01:57:22')\n",
            "(39, 'Srta. Olivia Fernandes', 'fviana@example.org', '10-03-1953', '2025-09-26 01:57:22')\n",
            "(40, 'Olivia Costela', 'mouranatalia@example.org', '05-11-1961', '2025-09-26 01:57:22')\n",
            "(41, 'Gabriela Rocha', 'vitoriasouza@example.com', '03-06-2002', '2025-09-26 01:57:22')\n",
            "(42, 'Maria Luiza Freitas', 'benicio04@example.net', '30-12-1948', '2025-09-26 01:57:22')\n",
            "(43, 'Sra. Maitê Costa', 'juliana42@example.org', '02-10-1967', '2025-09-26 01:57:22')\n",
            "(44, 'Luísa Lopes', 'moreiracecilia@example.net', '02-06-1969', '2025-09-26 01:57:22')\n",
            "(45, 'Emanuella Mendonça', 'caua57@example.net', '09-02-1971', '2025-09-26 01:57:22')\n",
            "(46, 'Sabrina Jesus', 'antony01@example.net', '26-03-1997', '2025-09-26 01:57:22')\n",
            "(47, 'Yasmin Guerra', 'theocostela@example.com', '17-09-1960', '2025-09-26 01:57:22')\n",
            "(48, 'Beatriz Moura', 'vbarros@example.com', '13-10-1997', '2025-09-26 01:57:22')\n",
            "(49, 'Dra. Helena Correia', 'erick75@example.net', '17-03-2002', '2025-09-26 01:57:22')\n",
            "(50, 'Bella Nogueira', 'cardosofernanda@example.net', '27-07-2002', '2025-09-26 01:57:22')\n",
            "(51, 'Maya Guerra', 'giovannabarros@example.com', '21-04-1957', '2025-09-26 01:57:22')\n",
            "(52, 'Maria Fernanda Camargo', 'smoreira@example.org', '03-02-2001', '2025-09-26 01:57:22')\n",
            "(53, 'Maria Cecília Casa Grande', 'baragao@example.net', '09-09-1980', '2025-09-26 01:57:22')\n",
            "(54, 'Bárbara Brito', 'kmarques@example.net', '04-06-1970', '2025-09-26 01:57:22')\n",
            "(55, 'Dra. Lívia Cavalcanti', 'vasconcelosigor@example.org', '25-05-1999', '2025-09-26 01:57:22')\n"
          ]
        }
      ]
    },
    {
      "cell_type": "code",
      "source": [
        "for row in cur.execute(\"SELECT * FROM alunas WHERE nome = 'Sra. Lavínia Costela' OR id = 8\"):\n",
        "  print(\"Registros a ser atualizados: \", row)\n",
        "\n",
        "atualizar_dados = [\n",
        "    (\"nome\", \"Lavínia\", \"nome = 'Sra. Lavínia Costela'\"),\n",
        "    (\"data_nascimento\", \"24-05-1994\", \"id = 8\")\n",
        "]\n",
        "\n",
        "atualizacao_lote(atualizar_dados)\n",
        "print(\"ATUALIZANDO...\")\n",
        "\n",
        "for row in cur.execute(\"SELECT * FROM alunas WHERE nome = 'Lavínia' OR id = 8\"):\n",
        "  print(\"Registros a ser atualizados: \", row)"
      ],
      "metadata": {
        "colab": {
          "base_uri": "https://localhost:8080/"
        },
        "id": "OxKDagiK4GEK",
        "outputId": "a0be555d-5224-4b64-fc2e-dfef1d8fb480"
      },
      "execution_count": 52,
      "outputs": [
        {
          "output_type": "stream",
          "name": "stdout",
          "text": [
            "Registros a ser atualizados:  (4, 'Sra. Lavínia Costela', 'hgomes@example.net', '13-12-1964', '2025-09-26 01:57:22')\n",
            "Registros a ser atualizados:  (8, 'Gabriela da Mata', 'fernando13@example.com', '10-12-1972', '2025-09-26 01:57:22')\n",
            "ATUALIZANDO...\n",
            "Registros a ser atualizados:  (4, 'Lavínia', 'hgomes@example.net', '13-12-1964', '2025-09-26 01:57:22')\n",
            "Registros a ser atualizados:  (8, 'Gabriela da Mata', 'fernando13@example.com', '24-05-1994', '2025-09-26 01:57:22')\n"
          ]
        }
      ]
    },
    {
      "cell_type": "markdown",
      "source": [
        "### 5. Remover registros\n",
        "\n",
        "* Excluir pelo menos uma aluna da tabela utilizando DELETE.\n",
        "\n",
        "* Excluir todas as alunas que tenham data de nascimento anterior a 1990."
      ],
      "metadata": {
        "id": "4e3hKcuLv7BO"
      }
    },
    {
      "cell_type": "code",
      "source": [
        "def deletar_registro(deletar_dados):\n",
        "  for condicao in deletar_dados:\n",
        "    cur.execute(f\"DELETE FROM alunas WHERE {condicao}\")\n",
        "    print(f\"Quantidade de resgistros excluidos: \", cur.rowcount)\n",
        "  con.commit()"
      ],
      "metadata": {
        "id": "xH8PFS9CvUkM"
      },
      "execution_count": 57,
      "outputs": []
    },
    {
      "cell_type": "code",
      "source": [
        "for row in cur.execute(\"SELECT * FROM alunas WHERE id = 55 OR id = 54 OR substr(data_nascimento, 7, 4) < '1990' \"):\n",
        "  print(\"Dados a serem deletados: \", row)\n",
        "\n",
        "deletar_dados = [\n",
        "    \"id\", 55,\n",
        "    \"id\", 54,\n",
        "    \"substr(data_nascimento, 7, 4) < '1990'\"\n",
        "]\n",
        "\n",
        "deletar_registro(deletar_dados)\n",
        "\n",
        "for row in cur.execute(\"SELECT * FROM alunas WHERE id = 55 OR id = 54 OR substr(data_nascimento, 7, 4) < '1990' \"):\n",
        "  print(\"Dados a serem deletados: \", row)"
      ],
      "metadata": {
        "colab": {
          "base_uri": "https://localhost:8080/"
        },
        "id": "nIHVPB4i7vaL",
        "outputId": "8f2d029f-d0c2-4974-8a38-a039384c6af6"
      },
      "execution_count": 58,
      "outputs": [
        {
          "output_type": "stream",
          "name": "stdout",
          "text": [
            "Dados a serem deletados:  (1, 'Isabella Teixeira', 'pretalab@edu.com.br', '10-12-1959', '2025-09-26 01:57:22')\n",
            "Dados a serem deletados:  (4, 'Lavínia', 'hgomes@example.net', '13-12-1964', '2025-09-26 01:57:22')\n",
            "Dados a serem deletados:  (6, 'Stella Viana', 'stella@gmail.com', '21-09-1948', '2025-09-26 01:57:22')\n",
            "Dados a serem deletados:  (7, 'Ágatha Aparecida', 'luigijesus@example.net', '18-02-1973', '2025-09-26 01:57:22')\n",
            "Dados a serem deletados:  (9, 'Luiza Cassiano', 'ealves@example.net', '18-11-1949', '2025-09-26 01:57:22')\n",
            "Dados a serem deletados:  (10, 'Stephany Vieira', 'stephany26@example.org', '11-08-1946', '2025-09-26 01:57:22')\n",
            "Dados a serem deletados:  (13, 'Marina Macedo', 'joao-guilherme51@example.com', '19-11-1945', '2025-09-26 01:57:22')\n",
            "Dados a serem deletados:  (14, 'Bárbara Duarte', 'zabreu@example.com', '15-04-1951', '2025-09-26 01:57:22')\n",
            "Dados a serem deletados:  (15, 'Sra. Maria Luiza Barbosa', 'oaparecida@example.net', '13-11-1972', '2025-09-26 01:57:22')\n",
            "Dados a serem deletados:  (16, 'Sofia Brito', 'umendonca@example.com', '10-08-1945', '2025-09-26 01:57:22')\n",
            "Dados a serem deletados:  (17, 'Dra. Cecília Garcia', 'vianamaria-cecilia@example.com', '11-07-1956', '2025-09-26 01:57:22')\n",
            "Dados a serem deletados:  (18, 'Luara Cirino', 'garciaandre@example.com', '30-03-1979', '2025-09-26 01:57:22')\n",
            "Dados a serem deletados:  (19, 'Sra. Sophie da Rosa', 'amandaduarte@example.org', '31-05-1984', '2025-09-26 01:57:22')\n",
            "Dados a serem deletados:  (20, 'Jade Pires', 'joao-lucassantos@example.org', '12-12-1947', '2025-09-26 01:57:22')\n",
            "Dados a serem deletados:  (21, 'Joana Ramos', 'valentimrodrigues@example.org', '05-12-1976', '2025-09-26 01:57:22')\n",
            "Dados a serem deletados:  (22, 'Sra. Lorena Moraes', 'manuellamachado@example.net', '30-09-1965', '2025-09-26 01:57:22')\n",
            "Dados a serem deletados:  (23, 'Manuela Carvalho', 'nmoraes@example.com', '02-04-1967', '2025-09-26 01:57:22')\n",
            "Dados a serem deletados:  (24, 'Marina Gonçalves', 'uaraujo@example.net', '16-05-1959', '2025-09-26 01:57:22')\n",
            "Dados a serem deletados:  (25, 'Daniela Gomes', 'borgesluiz-otavio@example.org', '14-10-1963', '2025-09-26 01:57:22')\n",
            "Dados a serem deletados:  (27, 'Maria Luiza Montenegro', 'anthony-gabrielpeixoto@example.com', '31-10-1987', '2025-09-26 01:57:22')\n",
            "Dados a serem deletados:  (28, 'Ana Sophia da Cruz', 'maiteduarte@example.org', '21-02-1980', '2025-09-26 01:57:22')\n",
            "Dados a serem deletados:  (30, 'Clara Costela', 'kcasa-grande@example.com', '26-05-1988', '2025-09-26 01:57:22')\n",
            "Dados a serem deletados:  (32, 'Sra. Allana Machado', 'vicentesilva@example.net', '08-07-1954', '2025-09-26 01:57:22')\n",
            "Dados a serem deletados:  (33, 'Maria Laura Costa', 'da-luzvinicius@example.com', '19-01-1945', '2025-09-26 01:57:22')\n",
            "Dados a serem deletados:  (34, 'Ana Pimenta', 'emanuellyramos@example.net', '24-07-1946', '2025-09-26 01:57:22')\n",
            "Dados a serem deletados:  (35, 'Dra. Joana Casa Grande', 'rrocha@example.com', '12-05-1989', '2025-09-26 01:57:22')\n",
            "Dados a serem deletados:  (38, 'Maria Aparecida', 'da-motaisis@example.com', '01-09-1949', '2025-09-26 01:57:22')\n",
            "Dados a serem deletados:  (39, 'Srta. Olivia Fernandes', 'fviana@example.org', '10-03-1953', '2025-09-26 01:57:22')\n",
            "Dados a serem deletados:  (40, 'Olivia Costela', 'mouranatalia@example.org', '05-11-1961', '2025-09-26 01:57:22')\n",
            "Dados a serem deletados:  (42, 'Maria Luiza Freitas', 'benicio04@example.net', '30-12-1948', '2025-09-26 01:57:22')\n",
            "Dados a serem deletados:  (43, 'Sra. Maitê Costa', 'juliana42@example.org', '02-10-1967', '2025-09-26 01:57:22')\n",
            "Dados a serem deletados:  (44, 'Luísa Lopes', 'moreiracecilia@example.net', '02-06-1969', '2025-09-26 01:57:22')\n",
            "Dados a serem deletados:  (45, 'Emanuella Mendonça', 'caua57@example.net', '09-02-1971', '2025-09-26 01:57:22')\n",
            "Dados a serem deletados:  (47, 'Yasmin Guerra', 'theocostela@example.com', '17-09-1960', '2025-09-26 01:57:22')\n",
            "Dados a serem deletados:  (51, 'Maya Guerra', 'giovannabarros@example.com', '21-04-1957', '2025-09-26 01:57:22')\n",
            "Dados a serem deletados:  (53, 'Maria Cecília Casa Grande', 'baragao@example.net', '09-09-1980', '2025-09-26 01:57:22')\n",
            "Dados a serem deletados:  (54, 'Bárbara Brito', 'kmarques@example.net', '04-06-1970', '2025-09-26 01:57:22')\n",
            "Dados a serem deletados:  (55, 'Dra. Lívia Cavalcanti', 'vasconcelosigor@example.org', '25-05-1999', '2025-09-26 01:57:22')\n",
            "Quantidade de resgistros excluidos:  55\n",
            "Quantidade de resgistros excluidos:  0\n",
            "Quantidade de resgistros excluidos:  0\n",
            "Quantidade de resgistros excluidos:  0\n",
            "Quantidade de resgistros excluidos:  0\n"
          ]
        }
      ]
    }
  ]
}